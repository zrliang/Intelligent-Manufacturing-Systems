{
 "metadata": {
  "language_info": {
   "codemirror_mode": {
    "name": "ipython",
    "version": 3
   },
   "file_extension": ".py",
   "mimetype": "text/x-python",
   "name": "python",
   "nbconvert_exporter": "python",
   "pygments_lexer": "ipython3",
   "version": "3.8.3-final"
  },
  "orig_nbformat": 2,
  "kernelspec": {
   "name": "Python 3.8.3 64-bit",
   "display_name": "Python 3.8.3 64-bit",
   "metadata": {
    "interpreter": {
     "hash": "34daf7430057d877556c3ea61e0ffd3d419a1a15f02d558c0bc9c0c22aa563a0"
    }
   }
  }
 },
 "nbformat": 4,
 "nbformat_minor": 2,
 "cells": [
  {
   "cell_type": "code",
   "execution_count": 125,
   "metadata": {},
   "outputs": [
    {
     "output_type": "stream",
     "name": "stdout",
     "text": [
      "[2, 0, 3, 1]\n878\n------------\n[0, 2, 3, 1]\n706\n0\n[2, 3, 0, 1]\n814\n0\n[2, 0, 1, 3]\n950\n0\n706\n"
     ]
    }
   ],
   "source": [
    "import numpy as np\n",
    "\n",
    "# Problem Definition and Parameters Setting\n",
    "Num_Jobs = 4  \n",
    "p = [10,10,13,4] \n",
    "d = [4,2,1,12]\n",
    "w = [14,12,1,12]\n",
    "\n",
    "tabusize=2\n",
    "Num_Iteration=2\n",
    "\n",
    "tabulist = np.zeros((tabusize, 2)).tolist #零矩陣\n",
    "tabulist=[[1,2],[3,4]]\n",
    "Tbest = 9999999999\n",
    "\n",
    "# Initialize the Solution\n",
    "##x_now = randperm(Num_Jobs) 隨機亂序 1.3.2.4\n",
    "x_now =np.random.permutation(Num_Jobs).tolist() #0-3\n",
    "print(x_now)\n",
    "Ptime = 0\n",
    "Tardiness = 0\n",
    "\n",
    "for j in range(Num_Jobs):\n",
    "    Ptime = Ptime + p[x_now[j]]\n",
    "    Tardiness = Tardiness + w[x_now[j]]*max(Ptime-d[x_now[j]],0)\n",
    "    #print(Ptime)\n",
    "    #print(Tardiness)\n",
    "T_now_best = Tardiness\n",
    "print(T_now_best)\n",
    "\n",
    "print(\"------------\")\n",
    "# Neighborhood Search\n",
    "for k in range(0,Num_Jobs-1):\n",
    "    istabu = 0\n",
    "    x_next = x_now[:]  #!!!!\n",
    "    x_next[k] = x_now[k+1]\n",
    "    x_next[k+1] = x_now[k]\n",
    "    print(x_next)\n",
    "\n",
    "    for n in range(tabusize): \n",
    "        if (x_next[k] == tabulist[n][0] and x_next[k+1] == tabulist[n][1]):\n",
    "            istabu = 1\n",
    "        if (x_next[k] == tabulist[n][1] and x_next[k+1] == tabulist[n][0]):\n",
    "            istabu = 1\n",
    "\n",
    "    if (istabu == 0):\n",
    "        Ptime = 0\n",
    "        Tardiness = 0\n",
    "        for j in range(Num_Jobs):\n",
    "            Ptime = Ptime + p[x_next[j]]\n",
    "            Tardiness = Tardiness + w[x_next[j]]*max(Ptime-d[x_next[j]],0)\n",
    "        print(Tardiness)\n",
    "    \n",
    "        if (Tardiness < T_now_best):\n",
    "            T_now_best = Tardiness\n",
    "            jobsequence = x_next\n",
    "            t1 = x_next[k]\n",
    "            t2 = x_next[k+1]\n",
    "    print(istabu)\n",
    "print(T_now_best)\n",
    "\n",
    "\n",
    "\n",
    "# Update the Tabu List\n",
    "for n in range(-1,-tabusize,-1):\n",
    "    tabulist[n][0] = tabulist [n-1][0]\n",
    "    tabulist[n][1] = tabulist [n-1][1]\n",
    "\n",
    "tabulist[0][0] = t1\n",
    "tabulist[0][1] = t2\n",
    "\n",
    "# Update the Best Result of All Iterations\n",
    "if (T_now_best <= Tbest):\n",
    "    Tbest = T_now_best\n",
    "    x_best = x_now\n",
    "# Calculate the Tardy Job Counts\n",
    "\n",
    "jobsequence_ptime = 0\n",
    "num_tardy = 0\n",
    "for l in range(Num_Jobs):\n",
    "    jobsequence_ptime = jobsequence_ptime + p(x_best(l))\n",
    "    if (jobsequence_ptime > d(x_best(l))):\n",
    "        num_tardy = num_tardy + 1\n",
    "\n",
    "# Report the Results\n",
    "\n"
   ]
  },
  {
   "cell_type": "code",
   "execution_count": 106,
   "metadata": {},
   "outputs": [
    {
     "output_type": "stream",
     "name": "stdout",
     "text": [
      "1 2\n3 4\n1 2\n3 4\n1 2\n3 4\n"
     ]
    }
   ],
   "source": [
    "tabulist=[[1,2],[3,4]]\n",
    "Num_Jobs=4\n",
    "for k in range(0,Num_Jobs-1):\n",
    "    for n in range(tabusize):\n",
    "        print(tabulist[n][0],tabulist[n][1] )\n"
   ]
  },
  {
   "cell_type": "code",
   "execution_count": 91,
   "metadata": {},
   "outputs": [
    {
     "output_type": "execute_result",
     "data": {
      "text/plain": [
       "1"
      ]
     },
     "metadata": {},
     "execution_count": 91
    }
   ],
   "source": [
    "tabusize=2\n",
    "tabulist=[[0,1],[2,3]]\n",
    "Num_Jobs=4\n",
    "x_next=[0,1,3,2]\n",
    "istabu=0\n",
    "for k in range(0,Num_Jobs-1):\n",
    "    for n in range(tabusize): \n",
    "        if (x_next[k] == tabulist[n][0] and x_next[k+1] == tabulist[n][1]):\n",
    "            istabu = 1\n",
    "        if (x_next[k] == tabulist[n][1] and x_next[k+1] == tabulist[n][0]):\n",
    "            istabu = 1\n",
    "istabu"
   ]
  },
  {
   "cell_type": "code",
   "execution_count": 126,
   "metadata": {},
   "outputs": [
    {
     "output_type": "stream",
     "name": "stdout",
     "text": [
      "0\n1\n2\n3\n"
     ]
    }
   ],
   "source": [
    "for l in range(Num_Jobs):\n",
    "    print(l)\n"
   ]
  },
  {
   "cell_type": "code",
   "execution_count": 124,
   "metadata": {},
   "outputs": [
    {
     "output_type": "execute_result",
     "data": {
      "text/plain": [
       "[[3, 5], [1, 2], [3, 4], [6, 8]]"
      ]
     },
     "metadata": {},
     "execution_count": 124
    }
   ],
   "source": [
    "tabulist=[[1,2],[3,4],[6,8],[8,9]]\n",
    "tabusize=4\n",
    "t1=3\n",
    "t2=5\n",
    "for n in range(-1,-tabusize,-1):\n",
    "    tabulist[n][0] = tabulist [n-1][0]\n",
    "    tabulist[n][1] = tabulist [n-1][1]\n",
    "\n",
    "tabulist[0][0] = t1\n",
    "tabulist[0][1] = t2\n",
    "tabulist\n"
   ]
  },
  {
   "cell_type": "code",
   "execution_count": 113,
   "metadata": {},
   "outputs": [
    {
     "output_type": "execute_result",
     "data": {
      "text/plain": [
       "3"
      ]
     },
     "metadata": {},
     "execution_count": 113
    }
   ],
   "source": [
    "tabulist=[[1,2],[3,4]]\n",
    "tabulist[-1][0]"
   ]
  },
  {
   "cell_type": "code",
   "execution_count": 118,
   "metadata": {},
   "outputs": [],
   "source": [
    "tabusize\n",
    "for n in range(-1,-3):\n",
    "    print(n)"
   ]
  },
  {
   "cell_type": "code",
   "execution_count": 120,
   "metadata": {},
   "outputs": [
    {
     "output_type": "stream",
     "name": "stdout",
     "text": [
      "-1\n-2\n"
     ]
    }
   ],
   "source": [
    "for n in range(-1,-3,-1):\n",
    "    print(n)"
   ]
  },
  {
   "cell_type": "code",
   "execution_count": null,
   "metadata": {},
   "outputs": [],
   "source": []
  }
 ]
}