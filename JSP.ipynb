{
 "metadata": {
  "language_info": {
   "codemirror_mode": {
    "name": "ipython",
    "version": 3
   },
   "file_extension": ".py",
   "mimetype": "text/x-python",
   "name": "python",
   "nbconvert_exporter": "python",
   "pygments_lexer": "ipython3",
   "version": "3.7.8-final"
  },
  "orig_nbformat": 2,
  "kernelspec": {
   "name": "Python 3.7.8 64-bit",
   "display_name": "Python 3.7.8 64-bit",
   "metadata": {
    "interpreter": {
     "hash": "f7a23b2fbe8b9dca290e507b2b535c2ca73a6b9383f11ac6f1f5dab321751ff9"
    }
   }
  }
 },
 "nbformat": 4,
 "nbformat_minor": 2,
 "cells": [
  {
   "cell_type": "code",
   "execution_count": 11,
   "metadata": {},
   "outputs": [
    {
     "output_type": "error",
     "ename": "KeyError",
     "evalue": "(6, 0)",
     "traceback": [
      "\u001b[1;31m---------------------------------------------------------------------------\u001b[0m",
      "\u001b[1;31mKeyError\u001b[0m                                  Traceback (most recent call last)",
      "\u001b[1;32m<ipython-input-11-7ece9903330d>\u001b[0m in \u001b[0;36m<module>\u001b[1;34m\u001b[0m\n\u001b[0;32m     35\u001b[0m        \u001b[0mK\u001b[0m \u001b[1;33m=\u001b[0m \u001b[0mmo\u001b[0m\u001b[1;33m[\u001b[0m\u001b[0mj\u001b[0m\u001b[1;33m,\u001b[0m\u001b[0mi\u001b[0m\u001b[1;33m+\u001b[0m\u001b[1;36m1\u001b[0m\u001b[1;33m]\u001b[0m\u001b[1;33m\u001b[0m\u001b[1;33m\u001b[0m\u001b[0m\n\u001b[0;32m     36\u001b[0m        \u001b[0mJ\u001b[0m \u001b[1;33m=\u001b[0m \u001b[0mj\u001b[0m\u001b[1;33m\u001b[0m\u001b[1;33m\u001b[0m\u001b[0m\n\u001b[1;32m---> 37\u001b[1;33m        \u001b[0mmodel\u001b[0m \u001b[1;33m+=\u001b[0m \u001b[1;33m(\u001b[0m\u001b[0mdv\u001b[0m\u001b[1;33m[\u001b[0m\u001b[0mK\u001b[0m\u001b[1;33m,\u001b[0m\u001b[0mJ\u001b[0m\u001b[1;33m]\u001b[0m \u001b[1;33m-\u001b[0m \u001b[0mdv\u001b[0m\u001b[1;33m[\u001b[0m\u001b[0mI\u001b[0m\u001b[1;33m,\u001b[0m\u001b[0mJ\u001b[0m\u001b[1;33m]\u001b[0m\u001b[1;33m)\u001b[0m \u001b[1;33m>=\u001b[0m \u001b[0mpt\u001b[0m\u001b[1;33m[\u001b[0m\u001b[0mJ\u001b[0m\u001b[1;33m]\u001b[0m\u001b[1;33m[\u001b[0m\u001b[0mlist\u001b[0m\u001b[1;33m(\u001b[0m\u001b[0mmo\u001b[0m\u001b[1;33m[\u001b[0m\u001b[0mJ\u001b[0m\u001b[1;33m]\u001b[0m\u001b[1;33m)\u001b[0m\u001b[1;33m.\u001b[0m\u001b[0mindex\u001b[0m\u001b[1;33m(\u001b[0m\u001b[0mI\u001b[0m\u001b[1;33m)\u001b[0m\u001b[1;33m]\u001b[0m\u001b[1;33m\u001b[0m\u001b[1;33m\u001b[0m\u001b[0m\n\u001b[0m\u001b[0;32m     38\u001b[0m \u001b[1;33m\u001b[0m\u001b[0m\n\u001b[0;32m     39\u001b[0m \u001b[1;32mfor\u001b[0m \u001b[0mj\u001b[0m \u001b[1;32min\u001b[0m \u001b[0mrange\u001b[0m\u001b[1;33m(\u001b[0m\u001b[1;36m6\u001b[0m\u001b[1;33m)\u001b[0m\u001b[1;33m:\u001b[0m\u001b[1;33m\u001b[0m\u001b[1;33m\u001b[0m\u001b[0m\n",
      "\u001b[1;31mKeyError\u001b[0m: (6, 0)"
     ]
    }
   ],
   "source": [
    "import pandas as pd\n",
    "import numpy as np\n",
    "import time\n",
    "import pulp  \n",
    "\n",
    "processing_time=pd.read_excel(\"Jobshop.xlsx\",\n",
    "                              sheet_name=\"processing_time\",\n",
    "                              header = 0)\n",
    "machine_order=pd.read_excel(\"Jobshop.xlsx\",\n",
    "                            sheet_name=\"machine_order\",\n",
    "                            header = 0)\n",
    "\n",
    "pt = processing_time.values\n",
    "mo = machine_order.values\n",
    "\n",
    "model = pulp.LpProblem(\"MIN_makespan\", pulp.LpMinimize)\n",
    "\n",
    "dv = pulp.LpVariable.dicts(\"start_time\",\n",
    "                                     ((i, j) for i in range(6) for j in range(6)),\n",
    "                                     lowBound=0,\n",
    "                                     cat='Continuous')\n",
    "b =  pulp.LpVariable.dicts(\"binary_var\",\n",
    "                                     ((i, j,o) for i in range(6) for j in range(6) for o in range(6) if j<o),\n",
    "                                     lowBound=0,\n",
    "                                     cat='Binary')\n",
    "\n",
    "Cmax = pulp.LpVariable('Cmax',lowBound = 0, cat='Continuous')\n",
    "\n",
    "\n",
    "model += Cmax\n",
    "\n",
    "for j in range(6):\n",
    "    for i in range(5):\n",
    "       I = mo[j,i]\n",
    "       K = mo[j,i+1]\n",
    "       J = j\n",
    "       model += (dv[K,J] - dv[I,J]) >= pt[J][list(mo[J]).index(I)]\n",
    "       \n",
    "for j in range(6):\n",
    "    for i in range(6):\n",
    "       I = mo[j,i]\n",
    "       J = j\n",
    "       model += (Cmax - dv[I,J]) >= pt[J][list(mo[J]).index(I)]\n",
    "       \n",
    "for i in range(6):\n",
    "    for j in range(6):\n",
    "        for l in range(6):\n",
    "            if j<l:\n",
    "                I=i\n",
    "                L = l\n",
    "                J = j\n",
    "                model += (dv[I,J] - dv[I,L]) >= (pt[L][list(mo[L]).index(I)] - 100*(1-b[i,J,L]))\n",
    "                model += (dv[I,L] - dv[I,J]) >= (pt[J][list(mo[J]).index(I)] - 100*(b[i,J,L]))\n",
    "       \n",
    "start_time = time.time()\n",
    "model.solve()\n",
    "pulp.LpStatus[model.status]     \n",
    "\n",
    "for var in dv:\n",
    "    var_value = dv[var].varValue\n",
    "    print( var[0],'-',var[1] ,var_value)\n",
    "\n",
    "total_cost = pulp.value(model.objective)\n",
    "print ('min cost:',total_cost)\n",
    "print('the elapsed time:%s'% (time.time() - start_time))"
   ]
  },
  {
   "cell_type": "code",
   "execution_count": 9,
   "metadata": {},
   "outputs": [
    {
     "output_type": "execute_result",
     "data": {
      "text/plain": [
       "   Job  Machine  Machine.1  Machine.2  Machine.3  Machine.4  Machine.5\n",
       "0    1        3          1          2          4          6          5\n",
       "1    2        2          3          5          6          1          4\n",
       "2    3        3          4          6          1          2          5\n",
       "3    4        2          1          3          4          5          6\n",
       "4    5        3          2          5          6          1          4\n",
       "5    6        2          4          6          1          5          3"
      ],
      "text/html": "<div>\n<style scoped>\n    .dataframe tbody tr th:only-of-type {\n        vertical-align: middle;\n    }\n\n    .dataframe tbody tr th {\n        vertical-align: top;\n    }\n\n    .dataframe thead th {\n        text-align: right;\n    }\n</style>\n<table border=\"1\" class=\"dataframe\">\n  <thead>\n    <tr style=\"text-align: right;\">\n      <th></th>\n      <th>Job</th>\n      <th>Machine</th>\n      <th>Machine.1</th>\n      <th>Machine.2</th>\n      <th>Machine.3</th>\n      <th>Machine.4</th>\n      <th>Machine.5</th>\n    </tr>\n  </thead>\n  <tbody>\n    <tr>\n      <th>0</th>\n      <td>1</td>\n      <td>3</td>\n      <td>1</td>\n      <td>2</td>\n      <td>4</td>\n      <td>6</td>\n      <td>5</td>\n    </tr>\n    <tr>\n      <th>1</th>\n      <td>2</td>\n      <td>2</td>\n      <td>3</td>\n      <td>5</td>\n      <td>6</td>\n      <td>1</td>\n      <td>4</td>\n    </tr>\n    <tr>\n      <th>2</th>\n      <td>3</td>\n      <td>3</td>\n      <td>4</td>\n      <td>6</td>\n      <td>1</td>\n      <td>2</td>\n      <td>5</td>\n    </tr>\n    <tr>\n      <th>3</th>\n      <td>4</td>\n      <td>2</td>\n      <td>1</td>\n      <td>3</td>\n      <td>4</td>\n      <td>5</td>\n      <td>6</td>\n    </tr>\n    <tr>\n      <th>4</th>\n      <td>5</td>\n      <td>3</td>\n      <td>2</td>\n      <td>5</td>\n      <td>6</td>\n      <td>1</td>\n      <td>4</td>\n    </tr>\n    <tr>\n      <th>5</th>\n      <td>6</td>\n      <td>2</td>\n      <td>4</td>\n      <td>6</td>\n      <td>1</td>\n      <td>5</td>\n      <td>3</td>\n    </tr>\n  </tbody>\n</table>\n</div>"
     },
     "metadata": {},
     "execution_count": 9
    }
   ],
   "source": [
    "import pandas as pd\n",
    "import numpy as np\n",
    "import time\n",
    "import pulp  \n",
    "\n",
    "processing_time=pd.read_excel(\"Jobshop.xlsx\",\n",
    "                              sheet_name=\"processing_time\",\n",
    "                              header = 0)\n",
    "machine_order=pd.read_excel(\"Jobshop.xlsx\",\n",
    "                            sheet_name=\"machine_order\",\n",
    "                            header = None)\n",
    "processing_time"
   ]
  },
  {
   "cell_type": "code",
   "execution_count": 12,
   "metadata": {},
   "outputs": [
    {
     "output_type": "error",
     "ename": "KeyError",
     "evalue": "(6, 0)",
     "traceback": [
      "\u001b[1;31m---------------------------------------------------------------------------\u001b[0m",
      "\u001b[1;31mKeyError\u001b[0m                                  Traceback (most recent call last)",
      "\u001b[1;32m<ipython-input-12-2da8f1417047>\u001b[0m in \u001b[0;36m<module>\u001b[1;34m\u001b[0m\n\u001b[0;32m     37\u001b[0m        \u001b[0mK\u001b[0m \u001b[1;33m=\u001b[0m \u001b[0mmo\u001b[0m\u001b[1;33m[\u001b[0m\u001b[0mj\u001b[0m\u001b[1;33m,\u001b[0m\u001b[0mi\u001b[0m\u001b[1;33m+\u001b[0m\u001b[1;36m1\u001b[0m\u001b[1;33m]\u001b[0m\u001b[1;33m\u001b[0m\u001b[1;33m\u001b[0m\u001b[0m\n\u001b[0;32m     38\u001b[0m        \u001b[0mJ\u001b[0m \u001b[1;33m=\u001b[0m \u001b[0mj\u001b[0m\u001b[1;33m\u001b[0m\u001b[1;33m\u001b[0m\u001b[0m\n\u001b[1;32m---> 39\u001b[1;33m        \u001b[0mmodel\u001b[0m \u001b[1;33m+=\u001b[0m \u001b[1;33m(\u001b[0m\u001b[0mdv\u001b[0m\u001b[1;33m[\u001b[0m\u001b[0mK\u001b[0m\u001b[1;33m,\u001b[0m\u001b[0mJ\u001b[0m\u001b[1;33m]\u001b[0m \u001b[1;33m-\u001b[0m \u001b[0mdv\u001b[0m\u001b[1;33m[\u001b[0m\u001b[0mI\u001b[0m\u001b[1;33m,\u001b[0m\u001b[0mJ\u001b[0m\u001b[1;33m]\u001b[0m\u001b[1;33m)\u001b[0m \u001b[1;33m>=\u001b[0m \u001b[0mpt\u001b[0m\u001b[1;33m[\u001b[0m\u001b[0mI\u001b[0m\u001b[1;33m,\u001b[0m\u001b[0mJ\u001b[0m\u001b[1;33m]\u001b[0m\u001b[1;33m\u001b[0m\u001b[1;33m\u001b[0m\u001b[0m\n\u001b[0m\u001b[0;32m     40\u001b[0m \u001b[1;31m#定義makespan\u001b[0m\u001b[1;33m\u001b[0m\u001b[1;33m\u001b[0m\u001b[1;33m\u001b[0m\u001b[0m\n\u001b[0;32m     41\u001b[0m \u001b[1;32mfor\u001b[0m \u001b[0mj\u001b[0m \u001b[1;32min\u001b[0m \u001b[0mrange\u001b[0m\u001b[1;33m(\u001b[0m\u001b[1;36m6\u001b[0m\u001b[1;33m)\u001b[0m\u001b[1;33m:\u001b[0m\u001b[1;33m\u001b[0m\u001b[1;33m\u001b[0m\u001b[0m\n",
      "\u001b[1;31mKeyError\u001b[0m: (6, 0)"
     ]
    }
   ],
   "source": [
    "import pandas as pd\n",
    "import numpy as np\n",
    "import time\n",
    "import pulp  \n",
    "\n",
    "processing_time=pd.read_excel(\"Jobshop.xlsx\",\n",
    "                              sheet_name=\"processing_time\",\n",
    "                              header = 0)\n",
    "machine_order=pd.read_excel(\"Jobshop.xlsx\",\n",
    "                            sheet_name=\"machine_order\",\n",
    "                            header = 0)\n",
    "\n",
    "pt = processing_time.values\n",
    "mo = machine_order.values\n",
    "\n",
    "model = pulp.LpProblem(\"MIN_makespan\", pulp.LpMinimize)\n",
    "\n",
    "dv = pulp.LpVariable.dicts(\"start_time\",\n",
    "                                     ((i, j) for i in range(6) for j in range(6)),\n",
    "                                     lowBound=0,\n",
    "                                     cat='Continuous')\n",
    "b =  pulp.LpVariable.dicts(\"binary_var\",\n",
    "                                     ((i, j,o) for i in range(6) for j in range(6) for o in range(6) if j<o),\n",
    "                                     lowBound=0,\n",
    "                                     cat='Binary')\n",
    "\n",
    "Cmax = pulp.LpVariable('Cmax',lowBound = 0, cat='Continuous')\n",
    "\n",
    "\n",
    "model += Cmax\n",
    "\n",
    "#加入限制式\n",
    "#確保工作的Operation順序，必須前一站完成才能排下一站\n",
    "for j in range(6):\n",
    "    for i in range(5):\n",
    "       I = mo[j,i]\n",
    "       K = mo[j,i+1]\n",
    "       J = j\n",
    "       model += (dv[K,J] - dv[I,J]) >= pt[I,J]\n",
    "#定義makespan       \n",
    "for j in range(6):\n",
    "    for i in range(6):\n",
    "       I = mo[j,i]\n",
    "       J = j\n",
    "       model += (Cmax - dv[I,J]) >= pt[I,J]\n",
    "#確保一台機台一次只能有一個工作進行       \n",
    "for i in range(6):\n",
    "    for j in range(6):\n",
    "        for l in range(6):\n",
    "            if j!=l:\n",
    "                I=i\n",
    "                L = l\n",
    "                J = j\n",
    "                model += (dv[I,J] - dv[I,L]) >= (pt[I,L] - 100*(1-b[i,J,L]))\n",
    "                model += (dv[I,L] - dv[I,J]) >= (pt[I,J] - 100*(b[i,J,L]))\n",
    "       \n",
    "#start_time = time.time()\n",
    "model.solve()\n",
    "pulp.LpStatus[model.status]     \n",
    "\n",
    "for var in dv:\n",
    "    var_value = dv[var].varValue\n",
    "    print( var[0],'-',var[1] ,var_value)\n",
    "\n",
    "total_cost = pulp.value(model.objective)\n",
    "print ('min cost:',total_cost)\n",
    "#print('the elapsed time:%s'% (time.time() - start_time))"
   ]
  },
  {
   "cell_type": "code",
   "execution_count": null,
   "metadata": {},
   "outputs": [],
   "source": []
  }
 ]
}