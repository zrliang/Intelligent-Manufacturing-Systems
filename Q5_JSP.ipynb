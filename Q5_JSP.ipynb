{
 "metadata": {
  "language_info": {
   "codemirror_mode": {
    "name": "ipython",
    "version": 3
   },
   "file_extension": ".py",
   "mimetype": "text/x-python",
   "name": "python",
   "nbconvert_exporter": "python",
   "pygments_lexer": "ipython3",
   "version": "3.8.3-final"
  },
  "orig_nbformat": 2,
  "kernelspec": {
   "name": "Python 3.8.3 64-bit",
   "display_name": "Python 3.8.3 64-bit",
   "metadata": {
    "interpreter": {
     "hash": "34daf7430057d877556c3ea61e0ffd3d419a1a15f02d558c0bc9c0c22aa563a0"
    }
   }
  }
 },
 "nbformat": 4,
 "nbformat_minor": 2,
 "cells": [
  {
   "cell_type": "code",
   "execution_count": 1,
   "metadata": {},
   "outputs": [
    {
     "output_type": "stream",
     "name": "stdout",
     "text": [
      "0 - 0 6.0\n0 - 1 39.0\n0 - 2 20.0\n0 - 3 15.0\n0 - 4 49.0\n0 - 5 29.0\n1 - 0 25.0\n1 - 1 0.0\n1 - 2 31.0\n1 - 3 9.0\n1 - 4 22.0\n1 - 5 14.0\n2 - 0 5.0\n2 - 1 8.0\n2 - 2 0.0\n2 - 3 22.0\n2 - 4 13.0\n2 - 5 49.0\n3 - 0 32.0\n3 - 1 49.0\n3 - 2 8.0\n3 - 3 27.0\n3 - 4 54.0\n3 - 5 17.0\n4 - 0 49.0\n4 - 1 15.0\n4 - 2 38.0\n4 - 3 30.0\n4 - 4 25.0\n4 - 5 45.0\n5 - 0 39.0\n5 - 1 29.0\n5 - 2 12.0\n5 - 3 46.0\n5 - 4 42.0\n5 - 5 20.0\nmin cost: 55.0\nthe elapsed time:1.0464897155761719\n"
     ]
    }
   ],
   "source": [
    "#JSP.ipynb\n",
    "\n",
    "#讀檔\n",
    "import pandas as pd\n",
    "import numpy as np\n",
    "import time\n",
    "import pulp  \n",
    "\n",
    "processing_time=pd.read_excel(\"Jobshop.xlsx\",sheet_name=\"processing_time\",header = None)\n",
    "machine_order=pd.read_excel(\"Jobshop.xlsx\",sheet_name=\"machine_order\",header = None)\n",
    "\n",
    "pt = processing_time.values\n",
    "mo = machine_order.values\n",
    "\n",
    "model = pulp.LpProblem(\"MIN_makespan\", pulp.LpMinimize)\n",
    "\n",
    "# 決策變數\n",
    "dv = pulp.LpVariable.dicts(\"start_time\",((i, j) for i in range(6) for j in range(6)),lowBound=0,cat='Continuous')\n",
    "\n",
    "b =  pulp.LpVariable.dicts(\"binary_var\",((i, j,o) for i in range(6) for j in range(6) for o in range(6) if j<o),lowBound=0,cat='Binary')\n",
    "\n",
    "Cmax = pulp.LpVariable('Cmax',lowBound = 0, cat='Continuous')\n",
    "\n",
    "# 目標式 : Min Cmax\n",
    "model = pulp.LpProblem(\"MIN_makespan\", pulp.LpMinimize)\n",
    "model += Cmax\n",
    "\n",
    "# 限制式:\n",
    "for j in range(6):\n",
    "    for i in range(5):\n",
    "       I = mo[j,i]\n",
    "       K = mo[j,i+1]\n",
    "       J = j\n",
    "       model += (dv[K,J] - dv[I,J]) >= pt[J][list(mo[J]).index(I)]\n",
    "       \n",
    "for j in range(6):\n",
    "    for i in range(6):\n",
    "       I = mo[j,i]\n",
    "       J = j\n",
    "       model += (Cmax - dv[I,J]) >= pt[J][list(mo[J]).index(I)]\n",
    "       \n",
    "for i in range(6):\n",
    "    for j in range(6):\n",
    "        for l in range(6):\n",
    "            if j<l:\n",
    "                I=i\n",
    "                L = l\n",
    "                J = j\n",
    "                model += (dv[I,J] - dv[I,L]) >= (pt[L][list(mo[L]).index(I)] - 100*(1-b[i,J,L]))\n",
    "                model += (dv[I,L] - dv[I,J]) >= (pt[J][list(mo[J]).index(I)] - 100*(b[i,J,L]))\n",
    "\n",
    "# 求解       \n",
    "start_time = time.time()\n",
    "model.solve()\n",
    "pulp.LpStatus[model.status]     \n",
    "\n",
    "for var in dv:\n",
    "    var_value = dv[var].varValue\n",
    "    print( var[0],'-',var[1] ,var_value)\n",
    "\n",
    "total_cost = pulp.value(model.objective)\n",
    "print ('min cost:',total_cost)\n",
    "print('the elapsed time:%s'% (time.time() - start_time))"
   ]
  },
  {
   "cell_type": "code",
   "execution_count": 1,
   "metadata": {},
   "outputs": [
    {
     "output_type": "error",
     "ename": "ImportError",
     "evalue": "\nThe plotly.plotly module is deprecated,\nplease install the chart-studio package and use the\nchart_studio.plotly module instead. \n",
     "traceback": [
      "\u001b[1;31m---------------------------------------------------------------------------\u001b[0m",
      "\u001b[1;31mImportError\u001b[0m                               Traceback (most recent call last)",
      "\u001b[1;32m<ipython-input-1-22a2c3c524a3>\u001b[0m in \u001b[0;36m<module>\u001b[1;34m\u001b[0m\n\u001b[0;32m      1\u001b[0m \u001b[1;34m'''--------plot gantt chart-------'''\u001b[0m\u001b[1;33m\u001b[0m\u001b[1;33m\u001b[0m\u001b[0m\n\u001b[0;32m      2\u001b[0m \u001b[1;32mimport\u001b[0m \u001b[0mpandas\u001b[0m \u001b[1;32mas\u001b[0m \u001b[0mpd\u001b[0m\u001b[1;33m\u001b[0m\u001b[1;33m\u001b[0m\u001b[0m\n\u001b[1;32m----> 3\u001b[1;33m \u001b[1;32mimport\u001b[0m \u001b[0mplotly\u001b[0m\u001b[1;33m.\u001b[0m\u001b[0mplotly\u001b[0m \u001b[1;32mas\u001b[0m \u001b[0mpy\u001b[0m\u001b[1;33m\u001b[0m\u001b[1;33m\u001b[0m\u001b[0m\n\u001b[0m\u001b[0;32m      4\u001b[0m \u001b[1;32mimport\u001b[0m \u001b[0mplotly\u001b[0m\u001b[1;33m.\u001b[0m\u001b[0mfigure_factory\u001b[0m \u001b[1;32mas\u001b[0m \u001b[0mff\u001b[0m\u001b[1;33m\u001b[0m\u001b[1;33m\u001b[0m\u001b[0m\n\u001b[0;32m      5\u001b[0m \u001b[1;32mimport\u001b[0m \u001b[0mdatetime\u001b[0m\u001b[1;33m\u001b[0m\u001b[1;33m\u001b[0m\u001b[0m\n",
      "\u001b[1;32m~\\AppData\\Local\\Programs\\Python\\Python38\\lib\\site-packages\\plotly\\plotly\\__init__.py\u001b[0m in \u001b[0;36m<module>\u001b[1;34m\u001b[0m\n\u001b[0;32m      2\u001b[0m \u001b[1;32mfrom\u001b[0m \u001b[0m_plotly_future_\u001b[0m \u001b[1;32mimport\u001b[0m \u001b[0m_chart_studio_error\u001b[0m\u001b[1;33m\u001b[0m\u001b[1;33m\u001b[0m\u001b[0m\n\u001b[0;32m      3\u001b[0m \u001b[1;33m\u001b[0m\u001b[0m\n\u001b[1;32m----> 4\u001b[1;33m \u001b[0m_chart_studio_error\u001b[0m\u001b[1;33m(\u001b[0m\u001b[1;34m\"plotly\"\u001b[0m\u001b[1;33m)\u001b[0m\u001b[1;33m\u001b[0m\u001b[1;33m\u001b[0m\u001b[0m\n\u001b[0m",
      "\u001b[1;32m~\\AppData\\Local\\Programs\\Python\\Python38\\lib\\site-packages\\_plotly_future_\\__init__.py\u001b[0m in \u001b[0;36m_chart_studio_error\u001b[1;34m(submodule)\u001b[0m\n\u001b[0;32m     41\u001b[0m \u001b[1;33m\u001b[0m\u001b[0m\n\u001b[0;32m     42\u001b[0m \u001b[1;32mdef\u001b[0m \u001b[0m_chart_studio_error\u001b[0m\u001b[1;33m(\u001b[0m\u001b[0msubmodule\u001b[0m\u001b[1;33m)\u001b[0m\u001b[1;33m:\u001b[0m\u001b[1;33m\u001b[0m\u001b[1;33m\u001b[0m\u001b[0m\n\u001b[1;32m---> 43\u001b[1;33m     raise ImportError(\n\u001b[0m\u001b[0;32m     44\u001b[0m         \"\"\"\n\u001b[0;32m     45\u001b[0m \u001b[0mThe\u001b[0m \u001b[0mplotly\u001b[0m\u001b[1;33m.\u001b[0m\u001b[1;33m{\u001b[0m\u001b[0msubmodule\u001b[0m\u001b[1;33m}\u001b[0m \u001b[0mmodule\u001b[0m \u001b[1;32mis\u001b[0m \u001b[0mdeprecated\u001b[0m\u001b[1;33m,\u001b[0m\u001b[1;33m\u001b[0m\u001b[1;33m\u001b[0m\u001b[0m\n",
      "\u001b[1;31mImportError\u001b[0m: \nThe plotly.plotly module is deprecated,\nplease install the chart-studio package and use the\nchart_studio.plotly module instead. \n"
     ]
    }
   ],
   "source": [
    "'''--------plot gantt chart-------'''\n",
    "import pandas as pd\n",
    "import plotly.plotly as py\n",
    "import plotly.figure_factory as ff\n",
    "import datetime\n",
    "\n",
    "m_keys=[j for j in range(6)]\n",
    "j_keys=[j for j in range(6)]\n",
    "key_count={key:0 for key in j_keys}\n",
    "j_count={key:0 for key in j_keys}\n",
    "m_count={key:0 for key in m_keys}\n",
    "j_record={}\n",
    "#for i in sequence_best:\n",
    "#    gen_t=int(pt[i][key_count[i]])\n",
    "#    gen_m=int(ms[i][key_count[i]])\n",
    "#    j_count[i]=j_count[i]+gen_t\n",
    "#    m_count[gen_m]=m_count[gen_m]+gen_t\n",
    "#    \n",
    "#    if m_count[gen_m]<j_count[i]:\n",
    "#        m_count[gen_m]=j_count[i]\n",
    "#    elif m_count[gen_m]>j_count[i]:\n",
    "#        j_count[i]=m_count[gen_m]\n",
    "for var in dv:\n",
    "    var_value = dv[var].varValue\n",
    "    \n",
    "    start_time=str(datetime.timedelta(seconds=var_value)) # convert seconds to hours, minutes and seconds\n",
    "    end_time=str(datetime.timedelta(seconds=var_value+pt[var[1]][list(mo[var[1]]).index(var[0])]))\n",
    "        \n",
    "    j_record[(var[1],var[0])]=[start_time,end_time]\n",
    "    \n",
    "    key_count[i]=key_count[i]+1\n",
    "        \n",
    "\n",
    "df=[]\n",
    "for m in m_keys:\n",
    "    for j in j_keys:\n",
    "        df.append(dict(Task='Machine %s'%(m), Start='2018-11-26 %s'%(str(j_record[(j,m)][0])), Finish='2018-11-26 %s'%(str(j_record[(j,m)][1])),Resource='Job %s'%(j)))\n",
    "    \n",
    "fig = ff.create_gantt(df, index_col='Resource', show_colorbar=True, group_tasks=True, showgrid_x=True, title='Job shop Schedule')\n",
    "py.iplot(fig, filename='job_shop_scheduling', world_readable=True)"
   ]
  },
  {
   "cell_type": "code",
   "execution_count": 2,
   "metadata": {},
   "outputs": [
    {
     "output_type": "stream",
     "name": "stdout",
     "text": [
      "Collecting chart_studio.plotly\n",
      "Note: you may need to restart the kernel to use updated packages.\n",
      "  ERROR: Could not find a version that satisfies the requirement chart_studio.plotly (from versions: none)\n",
      "ERROR: No matching distribution found for chart_studio.plotly\n",
      "WARNING: You are using pip version 19.2.3, however version 20.2.3 is available.\n",
      "You should consider upgrading via the 'python -m pip install --upgrade pip' command.\n"
     ]
    }
   ],
   "source": [
    "pip install chart_studio.plotly"
   ]
  },
  {
   "cell_type": "code",
   "execution_count": null,
   "metadata": {},
   "outputs": [],
   "source": []
  }
 ]
}