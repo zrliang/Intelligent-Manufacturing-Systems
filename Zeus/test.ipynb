{
 "metadata": {
  "language_info": {
   "codemirror_mode": {
    "name": "ipython",
    "version": 3
   },
   "file_extension": ".py",
   "mimetype": "text/x-python",
   "name": "python",
   "nbconvert_exporter": "python",
   "pygments_lexer": "ipython3",
   "version": "3.8.3-final"
  },
  "orig_nbformat": 2,
  "kernelspec": {
   "name": "Python 3.8.3 64-bit",
   "display_name": "Python 3.8.3 64-bit",
   "metadata": {
    "interpreter": {
     "hash": "34daf7430057d877556c3ea61e0ffd3d419a1a15f02d558c0bc9c0c22aa563a0"
    }
   }
  }
 },
 "nbformat": 4,
 "nbformat_minor": 2,
 "cells": [
  {
   "cell_type": "code",
   "execution_count": 116,
   "metadata": {},
   "outputs": [
    {
     "output_type": "stream",
     "name": "stdout",
     "text": [
      "nan\n"
     ]
    }
   ],
   "source": [
    "import pandas as pd\n",
    "\n",
    "walk_time=1.2\n",
    "pickup_time=20\n",
    "elevator_time=30\n",
    "elevator_distance=6\n",
    "\n",
    "input1_string = input(\"1F 儲位: \")\n",
    "list1 = input1_string.split()\n",
    "list1 = list(map(int, list1))\n",
    "list1.insert(0,1)\n",
    "input2_string = input(\"2F 儲位: \")\n",
    "list2 = input2_string.split()\n",
    "list2 = list(map(int, list2))\n",
    "list2.insert(0,91)\n",
    "\n",
    "# list1=[1,10] #11-1\n",
    "# list2=[91,113]\n",
    "\n",
    "df_1F = pd.read_excel(\"./1&2F_distance.xlsx\", sheet_name=0, index_col=0)\n",
    "df_2F = pd.read_excel(\"./1&2F_distance.xlsx\", sheet_name=1, index_col=0)\n",
    "\n",
    "total_distance=0\n",
    "total_pickup_time=0\n",
    "total_distance_1F=0\n",
    "total_distance_2F=0\n",
    "storage_1F_num=len(list1)-1\n",
    "storage_2F_num=len(list2)-1\n",
    "\n",
    "if input1_string !=\"1\" and  input2_string !=\"91\":\n",
    "    if len(list1)>1:\n",
    "        for i in range(storage_1F_num):\n",
    "            total_distance_1F += df_1F.at[list1[i], list1[i+1]]\n",
    "            #print(df_1F.at[list1[i], list1[i+1]])\n",
    "            #print(total_distance_1F)\n",
    "        total_distance=total_distance_1F    \n",
    "        total_pickup_time= storage_1F_num*pickup_time + total_distance_1F/walk_time\n",
    "        \n",
    "    if len(list2)>1:\n",
    "        for i in range(storage_2F_num):\n",
    "            total_distance_2F += df_2F.at[list2[i], list2[i+1]]\n",
    "            #print(total_distance_2F)\n",
    "            #print(df_2F.at[list2[i], list2[i+1]])\n",
    "        if len(list1)>1:\n",
    "            total_pickup_time= (storage_1F_num + storage_2F_num)*pickup_time + (total_distance_1F + total_distance_2F + elevator_distance)/walk_time + elevator_time \n",
    "            total_distance = total_distance_1F + total_distance_2F + elevator_distance\n",
    "        else:\n",
    "            total_pickup_time= storage_2F_num*pickup_time + (total_distance_2F + elevator_distance)/walk_time + elevator_time # 有坐電梯\n",
    "            total_distance = total_distance_2F + elevator_distance\n",
    "\n",
    "else:\n",
    "    if input1_string ==\"1\":\n",
    "        print(df_1F.at[list1[1], list1[1]])\n",
    "    else:\n",
    "        print(df_2F.at[list2[91], list2[91]]+ elevator_distance )\n",
    "\n",
    "# print(total_distance)\n",
    "# print(total_pickup_time)"
   ]
  },
  {
   "cell_type": "code",
   "execution_count": 37,
   "metadata": {},
   "outputs": [
    {
     "output_type": "execute_result",
     "data": {
      "text/plain": [
       "4.66"
      ]
     },
     "metadata": {},
     "execution_count": 37
    }
   ],
   "source": [
    "df_2F.at[25, 92]+df_2F.at[25, 92]"
   ]
  },
  {
   "cell_type": "code",
   "execution_count": 52,
   "metadata": {},
   "outputs": [
    {
     "output_type": "stream",
     "name": "stdout",
     "text": [
      "Sum of the list  []\nSum =  0\n"
     ]
    }
   ],
   "source": [
    "input_string = input(\"Enter the number list: \")\n",
    "userList = input_string.split()\n",
    "print(\"Sum of the list \", userList)\n",
    "sum = 0\n",
    "for num in userList:\n",
    "    sum += int(num)\n",
    "print(\"Sum = \", sum)"
   ]
  },
  {
   "cell_type": "code",
   "execution_count": 60,
   "metadata": {},
   "outputs": [
    {
     "output_type": "execute_result",
     "data": {
      "text/plain": [
       "116.025"
      ]
     },
     "metadata": {},
     "execution_count": 60
    }
   ],
   "source": [
    " 2*20 +(11.97+37.26 + 6)/1.2+ 30"
   ]
  },
  {
   "cell_type": "code",
   "execution_count": 64,
   "metadata": {},
   "outputs": [
    {
     "output_type": "stream",
     "name": "stdout",
     "text": [
      "[1, 10]\n[91, 113]\n"
     ]
    }
   ],
   "source": [
    "input1_string = input(\"1F 儲位: \")\n",
    "list1 = input1_string.split()\n",
    "list1 = list(map(int, list1))\n",
    "input2_string = input(\"2F 儲位: \")\n",
    "list2 = input2_string.split()\n",
    "list2 = list(map(int, list2))\n",
    "print(list1)\n",
    "print(list2)"
   ]
  },
  {
   "cell_type": "code",
   "execution_count": 88,
   "metadata": {},
   "outputs": [
    {
     "output_type": "execute_result",
     "data": {
      "text/plain": [
       "[1, 2, 3]"
      ]
     },
     "metadata": {},
     "execution_count": 88
    }
   ],
   "source": [
    "a=[1,2]\n",
    "a.append(3)\n",
    "a"
   ]
  },
  {
   "cell_type": "code",
   "execution_count": 72,
   "metadata": {},
   "outputs": [
    {
     "output_type": "execute_result",
     "data": {
      "text/plain": [
       "276.15"
      ]
     },
     "metadata": {},
     "execution_count": 72
    }
   ],
   "source": [
    "a= 1.33+29.26+40.92+100.49+104.15\n",
    "a"
   ]
  },
  {
   "cell_type": "code",
   "execution_count": 92,
   "metadata": {},
   "outputs": [
    {
     "output_type": "stream",
     "name": "stdout",
     "text": [
      "[1, '2', '2']\n"
     ]
    }
   ],
   "source": [
    "input1_string = input(\"1F 儲位: \")\n",
    "list1 = input1_string.split()\n",
    "list1.insert(0,1)\n",
    "print(list1)"
   ]
  },
  {
   "cell_type": "code",
   "execution_count": null,
   "metadata": {},
   "outputs": [],
   "source": []
  }
 ]
}