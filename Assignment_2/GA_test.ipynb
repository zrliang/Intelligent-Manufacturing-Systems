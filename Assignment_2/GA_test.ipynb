{
 "metadata": {
  "language_info": {
   "codemirror_mode": {
    "name": "ipython",
    "version": 3
   },
   "file_extension": ".py",
   "mimetype": "text/x-python",
   "name": "python",
   "nbconvert_exporter": "python",
   "pygments_lexer": "ipython3",
   "version": "3.7.8-final"
  },
  "orig_nbformat": 2,
  "kernelspec": {
   "name": "python_defaultSpec_1603537659061",
   "display_name": "Python 3.7.8 64-bit"
  }
 },
 "nbformat": 4,
 "nbformat_minor": 2,
 "cells": [
  {
   "cell_type": "code",
   "execution_count": 2,
   "metadata": {},
   "outputs": [
    {
     "output_type": "execute_result",
     "data": {
      "text/plain": "[0, 1, 3, 2]"
     },
     "metadata": {},
     "execution_count": 2
    }
   ],
   "source": [
    "import numpy as np\n",
    "population_size=4\n",
    "S=list(np.random.permutation(population_size))\n",
    "S\n"
   ]
  },
  {
   "cell_type": "code",
   "execution_count": 3,
   "metadata": {
    "tags": []
   },
   "outputs": [
    {
     "output_type": "stream",
     "name": "stdout",
     "text": "0\n1\n2\n"
    }
   ],
   "source": [
    "population_size=7\n",
    "for m in range(int(population_size/2)):\n",
    "    print(m)"
   ]
  },
  {
   "cell_type": "code",
   "execution_count": 24,
   "metadata": {},
   "outputs": [
    {
     "output_type": "execute_result",
     "data": {
      "text/plain": "[12, 11, 3, 18, 15, 9, 4, 7, 2, 13]"
     },
     "metadata": {},
     "execution_count": 24
    }
   ],
   "source": [
    "num_job=20\n",
    "child_1=['na' for i in range(num_job)]\n",
    "fix_num=round(num_job/2) #進位\n",
    "g_fix=list(np.random.choice(num_job, fix_num, replace=False))\n",
    "g_fix"
   ]
  },
  {
   "cell_type": "code",
   "execution_count": 7,
   "metadata": {},
   "outputs": [
    {
     "output_type": "execute_result",
     "data": {
      "text/plain": "4"
     },
     "metadata": {},
     "execution_count": 7
    }
   ],
   "source": [
    "fix_num=round(7/2)\n",
    "fix_num"
   ]
  },
  {
   "cell_type": "code",
   "execution_count": 27,
   "metadata": {},
   "outputs": [
    {
     "output_type": "execute_result",
     "data": {
      "text/plain": "[1, 3, 8, 9, 'na', 8, 7, 'na']"
     },
     "metadata": {},
     "execution_count": 27
    }
   ],
   "source": [
    "# https://blog.csdn.net/u014291497/article/details/51059686\n",
    "# index用法\n",
    "child_1=[1,3,8,\"na\",\"na\",8,7,\"na\"]\n",
    "child_2=[1,3,8,\"na\",\"na\",8,7,\"na\"]\n",
    "c1=[1,2,3]\n",
    "for i in range(3):\n",
    "    child_1[child_1.index('na')]=c1[i]\n",
    "child_1\n",
    "child_2[child_2.index('na')]=9\n",
    "child_2"
   ]
  },
  {
   "cell_type": "code",
   "execution_count": 31,
   "metadata": {},
   "outputs": [
    {
     "output_type": "execute_result",
     "data": {
      "text/plain": "True"
     },
     "metadata": {},
     "execution_count": 31
    }
   ],
   "source": [
    "#list 加法\n",
    "import copy\n",
    "A=[1,2]\n",
    "B=[3,4]\n",
    "C=copy.deepcopy(A)+copy.deepcopy(B)\n",
    "D=A+B\n",
    "C ==D"
   ]
  },
  {
   "cell_type": "code",
   "execution_count": 33,
   "metadata": {
    "tags": []
   },
   "outputs": [
    {
     "output_type": "stream",
     "name": "stdout",
     "text": "0\n"
    }
   ],
   "source": [
    "for j in range(0,1):\n",
    "    print(j)"
   ]
  },
  {
   "cell_type": "code",
   "execution_count": 34,
   "metadata": {
    "tags": []
   },
   "outputs": [
    {
     "output_type": "stream",
     "name": "stdout",
     "text": "上\n下\n下\n下\n下\n"
    }
   ],
   "source": [
    "for i in range(5):\n",
    "    if i<=0:\n",
    "        print(\"上\")\n",
    "    else:\n",
    "        for j in range(0,9):\n",
    "            if 5>3:\n",
    "                print(\"下\")\n",
    "                break"
   ]
  },
  {
   "cell_type": "code",
   "execution_count": null,
   "metadata": {},
   "outputs": [],
   "source": []
  }
 ]
}