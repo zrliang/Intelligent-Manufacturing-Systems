{
 "metadata": {
  "language_info": {
   "codemirror_mode": {
    "name": "ipython",
    "version": 3
   },
   "file_extension": ".py",
   "mimetype": "text/x-python",
   "name": "python",
   "nbconvert_exporter": "python",
   "pygments_lexer": "ipython3",
   "version": "3.8.3-final"
  },
  "orig_nbformat": 2,
  "kernelspec": {
   "name": "python3",
   "display_name": "Python 3.8.3 64-bit",
   "metadata": {
    "interpreter": {
     "hash": "34daf7430057d877556c3ea61e0ffd3d419a1a15f02d558c0bc9c0c22aa563a0"
    }
   }
  }
 },
 "nbformat": 4,
 "nbformat_minor": 2,
 "cells": [
  {
   "cell_type": "code",
   "execution_count": 2,
   "metadata": {},
   "outputs": [
    {
     "output_type": "stream",
     "name": "stdout",
     "text": [
      "Periodic Boundary Conditions active.\n",
      "The weights will be initialised randomly.\n",
      "Training SOM... done!\n"
     ]
    }
   ],
   "source": [
    "import pandas as pd\n",
    "\n",
    "raw_data= pd.read_excel(\"./SOMdata.xlsx\")\n",
    "#Import the library\n",
    "import SimpSOM as sps\n",
    "\n",
    "#Build a network 20x20 with a weights format taken from the raw_data and activate Periodic Boundary Conditions. \n",
    "net = sps.somNet(20, 20, raw_data.values, PBC=True)\n",
    "\n",
    "#Train the network for 1000 epochs and with initial learning rate of 0.01. \n",
    "net.train(0.01, 1000)\n",
    "\n",
    "#Save the weights to file\n",
    "net.save('filename_weights')\n",
    "\n",
    "#Print a map of the network nodes and colour them according to the first feature (column number 0) of the dataset\n",
    "#and then according to the distance between each node and its neighbours."
   ]
  },
  {
   "cell_type": "code",
   "execution_count": null,
   "metadata": {},
   "outputs": [],
   "source": [
    "net.nodes_graph(colnum=0)\n",
    "\n",
    "net.diff_graph()"
   ]
  },
  {
   "cell_type": "code",
   "execution_count": null,
   "metadata": {},
   "outputs": [],
   "source": [
    "net.nodes_graph(colnum=1)\n",
    "\n",
    "net.diff_graph()"
   ]
  },
  {
   "cell_type": "code",
   "execution_count": null,
   "metadata": {},
   "outputs": [],
   "source": [
    "net.nodes_graph(colnum=2)\n",
    "\n",
    "net.diff_graph()"
   ]
  },
  {
   "cell_type": "code",
   "execution_count": null,
   "metadata": {},
   "outputs": [],
   "source": [
    "net.nodes_graph(colnum=3)\n",
    "\n",
    "net.diff_graph()"
   ]
  },
  {
   "cell_type": "code",
   "execution_count": null,
   "metadata": {},
   "outputs": [],
   "source": [
    "net.nodes_graph(colnum=4)\n",
    "\n",
    "net.diff_graph()"
   ]
  },
  {
   "cell_type": "code",
   "execution_count": null,
   "metadata": {},
   "outputs": [],
   "source": [
    "net.nodes_graph(colnum=5)\n",
    "\n",
    "net.diff_graph()"
   ]
  },
  {
   "cell_type": "code",
   "execution_count": null,
   "metadata": {},
   "outputs": [],
   "source": [
    "net.nodes_graph(colnum=6)\n",
    "\n",
    "net.diff_graph()"
   ]
  },
  {
   "cell_type": "code",
   "execution_count": null,
   "metadata": {},
   "outputs": [],
   "source": [
    "net.nodes_graph(colnum=7)\n",
    "\n",
    "net.diff_graph()"
   ]
  }
 ]
}