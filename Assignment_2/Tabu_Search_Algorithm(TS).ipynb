{
 "metadata": {
  "language_info": {
   "codemirror_mode": {
    "name": "ipython",
    "version": 3
   },
   "file_extension": ".py",
   "mimetype": "text/x-python",
   "name": "python",
   "nbconvert_exporter": "python",
   "pygments_lexer": "ipython3",
   "version": "3.8.3-final"
  },
  "orig_nbformat": 2,
  "kernelspec": {
   "name": "Python 3.8.3 64-bit",
   "display_name": "Python 3.8.3 64-bit",
   "metadata": {
    "interpreter": {
     "hash": "34daf7430057d877556c3ea61e0ffd3d419a1a15f02d558c0bc9c0c22aa563a0"
    }
   }
  }
 },
 "nbformat": 4,
 "nbformat_minor": 2,
 "cells": [
  {
   "cell_type": "code",
   "execution_count": 17,
   "metadata": {},
   "outputs": [
    {
     "output_type": "execute_result",
     "data": {
      "text/plain": [
       "array([ 8,  5,  6, 10,  2,  3,  9,  4,  7,  1])"
      ]
     },
     "metadata": {},
     "execution_count": 17
    }
   ],
   "source": [
    "import numpy as np\n",
    "\n",
    "# Problem Definition and Parameters Setting\n",
    "Num_Jobs = 4  \n",
    "p = [10,10,13,4] \n",
    "d = [4,2,1,12]\n",
    "w = [14,12,1,12]\n",
    "\n",
    "tabusize=2\n",
    "Num_Iteration=2\n",
    "\n",
    "tabulist = np.zeros((tabusize, 2)) #零矩陣\n",
    "Tbest = 9999999999\n",
    "\n",
    "# Initialize the Solution\n",
    "##x_now = randperm(Num_Jobs) 隨機亂序 1.3.2.4\n",
    "x_now =np.random.permutation(10)+1\n"
   ]
  },
  {
   "cell_type": "code",
   "execution_count": 7,
   "metadata": {},
   "outputs": [
    {
     "output_type": "execute_result",
     "data": {
      "text/plain": [
       "1     10\n",
       "2     10\n",
       "3     13\n",
       "4      4\n",
       "5      9\n",
       "6      4\n",
       "7      8\n",
       "8     15\n",
       "9      7\n",
       "10     1\n",
       "11     9\n",
       "12     3\n",
       "13    15\n",
       "14     9\n",
       "15    11\n",
       "16     6\n",
       "17     5\n",
       "18    14\n",
       "19    18\n",
       "20     3\n",
       "Name: 0, dtype: int32"
      ]
     },
     "metadata": {},
     "execution_count": 7
    }
   ],
   "source": [
    "import pandas as pd\n",
    "df = pd.read_excel(\"./Single-Machine Scheduling Problem.xlsx\", sheet_name=0, usecols=\"B:CW\", dtype=int)\n",
    "df.iloc[0]"
   ]
  }
 ]
}